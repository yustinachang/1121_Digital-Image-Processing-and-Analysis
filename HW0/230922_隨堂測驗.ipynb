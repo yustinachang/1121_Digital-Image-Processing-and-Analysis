{
  "nbformat": 4,
  "nbformat_minor": 0,
  "metadata": {
    "colab": {
      "provenance": [],
      "include_colab_link": true
    },
    "kernelspec": {
      "name": "python3",
      "display_name": "Python 3"
    },
    "language_info": {
      "name": "python"
    }
  },
  "cells": [
    {
      "cell_type": "markdown",
      "metadata": {
        "id": "view-in-github",
        "colab_type": "text"
      },
      "source": [
        "<a href=\"https://colab.research.google.com/github/yustinachang/1121_20009_Digital-Image-Processing-and-Analysis/blob/main/HW0/230922_%E9%9A%A8%E5%A0%82%E6%B8%AC%E9%A9%97.ipynb\" target=\"_parent\"><img src=\"https://colab.research.google.com/assets/colab-badge.svg\" alt=\"Open In Colab\"/></a>"
      ]
    },
    {
      "cell_type": "markdown",
      "source": [
        "提示：使用者輸入函數可使用input()"
      ],
      "metadata": {
        "id": "sbTOHdzcGh5D"
      }
    },
    {
      "cell_type": "markdown",
      "source": [
        "1.請撰寫一個程式可輸入三個人的姓名與電子郵件，之後可藉由姓名查詢電子郵件"
      ],
      "metadata": {
        "id": "AzRoQ_LAGW4p"
      }
    },
    {
      "cell_type": "code",
      "source": [
        "d1={}\n",
        "for i in range(1,4):\n",
        "  name=input('請輸入name:')\n",
        "  mail=input('請輸入mail:')\n",
        "  d1[name]=mail\n",
        "print(d1[input('輸入查詢名字:')])"
      ],
      "metadata": {
        "id": "OU7hdWJFGS0p",
        "colab": {
          "base_uri": "https://localhost:8080/"
        },
        "outputId": "2f8ea598-a51b-4dc9-9032-7b9ce7f5e139"
      },
      "execution_count": null,
      "outputs": [
        {
          "output_type": "stream",
          "name": "stdout",
          "text": [
            "請輸入name:1\n",
            "請輸入mail:2\n",
            "請輸入name:3\n",
            "請輸入mail:4\n",
            "請輸入name:5\n",
            "請輸入mail:6\n",
            "輸入查詢名字:1\n",
            "2\n"
          ]
        }
      ]
    },
    {
      "cell_type": "markdown",
      "source": [
        "2.請設計一個程式輸入2維平面某個點的座標(x,y)，輸出該點所在象限。"
      ],
      "metadata": {
        "id": "CF1RX6BcGbA4"
      }
    },
    {
      "cell_type": "code",
      "source": [
        "def F2(x,y):\n",
        "  if x*y>0:\n",
        "    if x>0:\n",
        "      return '第一象限'\n",
        "    else:\n",
        "      return '第三象限'\n",
        "  if x*y<0:\n",
        "    if x>0:\n",
        "      return '第四象限'\n",
        "    else:\n",
        "      return '第二象限'\n",
        "  if x!=0:\n",
        "    return 'x軸'\n",
        "  elif y!=0:\n",
        "    return 'y軸'\n",
        "  else:\n",
        "    return '原點'\n",
        "\n",
        "F2(int(input('請輸入x值:')),int(input('請輸入y值:')))"
      ],
      "metadata": {
        "id": "6DzS4LdqGfUj",
        "colab": {
          "base_uri": "https://localhost:8080/",
          "height": 70
        },
        "outputId": "2c2fdb11-05ac-4cb8-bd35-d00f97f0ad13"
      },
      "execution_count": null,
      "outputs": [
        {
          "name": "stdout",
          "output_type": "stream",
          "text": [
            "請輸入x值:1\n",
            "請輸入y值:-1\n"
          ]
        },
        {
          "output_type": "execute_result",
          "data": {
            "text/plain": [
              "'第四象限'"
            ],
            "application/vnd.google.colaboratory.intrinsic+json": {
              "type": "string"
            }
          },
          "metadata": {},
          "execution_count": 44
        }
      ]
    },
    {
      "cell_type": "markdown",
      "source": [
        "3.寫一個程式計算3+6+9+12"
      ],
      "metadata": {
        "id": "0SDME7fQGqVr"
      }
    },
    {
      "cell_type": "code",
      "source": [
        "x1,x2,x3,x4=input().split('+')\n",
        "x1=int(x1)\n",
        "x2=int(x2)\n",
        "x3=int(x3)\n",
        "x4=int(x4)\n",
        "total=x1+x2+x3+x4\n",
        "print(total)"
      ],
      "metadata": {
        "id": "ZTbtV3AaG0xx",
        "colab": {
          "base_uri": "https://localhost:8080/"
        },
        "outputId": "638a16c0-e783-467c-c0f1-22fb468bfc79"
      },
      "execution_count": null,
      "outputs": [
        {
          "output_type": "stream",
          "name": "stdout",
          "text": [
            "3+6+9+12\n",
            "30\n"
          ]
        }
      ]
    },
    {
      "cell_type": "markdown",
      "source": [
        "4.利用While迴圈輸出1~100所有數的和\n",
        "(提示：請設定2個變數，一個作為迴圈控制及儲存當前數字，另一作為疊加總和之用)"
      ],
      "metadata": {
        "id": "DBmCbC8VG1eo"
      }
    },
    {
      "cell_type": "code",
      "source": [
        "i=0\n",
        "sum=0\n",
        "while i < 101:\n",
        "  sum+=i\n",
        "  i+=1\n",
        "print(sum)"
      ],
      "metadata": {
        "id": "hrSouGzRG8tH",
        "colab": {
          "base_uri": "https://localhost:8080/"
        },
        "outputId": "8d043bf0-41d6-4ac3-8b83-b32d5fc2fef5"
      },
      "execution_count": null,
      "outputs": [
        {
          "output_type": "stream",
          "name": "stdout",
          "text": [
            "5050\n"
          ]
        }
      ]
    },
    {
      "cell_type": "markdown",
      "source": [
        "5.一份數學考卷共有14題，為了使及格率提高，給分方式如下：答對1～8題，每題以8分計；答對9題以上者，前8題仍以8分計，但第9題開始則每題以6分計。請根據以上敘述撰寫一支程式，讓使用者輸入答對題數，再經程式計算後輸出得分。\n",
        "(提示：此題有雙層if...else判斷，請同學動動腦，別忘了做例外處理)"
      ],
      "metadata": {
        "id": "STRMQqxHHHIG"
      }
    },
    {
      "cell_type": "code",
      "source": [
        "def F5(x):\n",
        "  if not (x<15 and x>-1):\n",
        "    return 'error'\n",
        "  if x>8:\n",
        "    return (x-8)*6+64\n",
        "  return x*8\n",
        "\n",
        "F5(int(input('請輸入答對題數:')))"
      ],
      "metadata": {
        "id": "F40HCki9HOjn",
        "colab": {
          "base_uri": "https://localhost:8080/"
        },
        "outputId": "0833a280-f149-4870-d93f-a5f5c8f82d83"
      },
      "execution_count": null,
      "outputs": [
        {
          "name": "stdout",
          "output_type": "stream",
          "text": [
            "請輸入答對題數:10\n"
          ]
        },
        {
          "output_type": "execute_result",
          "data": {
            "text/plain": [
              "76"
            ]
          },
          "metadata": {},
          "execution_count": 49
        }
      ]
    },
    {
      "cell_type": "markdown",
      "source": [
        "6.自訂一個函式檢查密碼是否安全，密碼須符合以下原則:\n",
        "\n",
        "密碼只有數字或英文字且長度<6：「不安全的密碼」<br>\n",
        "密碼只有數字或英文字且長度>6：「可能是安全的密碼」<br>\n",
        "密碼包含英文與數字且長度>6：「安全的密碼」<br>\n",
        "密碼包含英文與數字且長度>10：「非常安全的密碼」"
      ],
      "metadata": {
        "id": "yqn4yknSHdJt"
      }
    },
    {
      "cell_type": "code",
      "source": [
        "def F6(x):\n",
        "  if x.isdigit() or x.isalpha():\n",
        "    if len(x)<6:\n",
        "      return '不安全的密碼'\n",
        "    else:\n",
        "      return '可能是安全的密碼'\n",
        "  else:\n",
        "    if len(x)>10:\n",
        "      return '非常安全的密碼'\n",
        "    elif len(x)>6:\n",
        "      return '安全的密碼'\n",
        "    return 'error'\n",
        "\n",
        "F6(input('請輸入密碼:'))"
      ],
      "metadata": {
        "id": "-px3G2YoHft3",
        "colab": {
          "base_uri": "https://localhost:8080/"
        },
        "outputId": "31c47530-ac3b-44c7-97a0-52ae4e99929a"
      },
      "execution_count": null,
      "outputs": [
        {
          "output_type": "stream",
          "name": "stdout",
          "text": [
            "請輸入密碼:djoa;ji;ehfhsuhiu1\n",
            "非常安全的密碼\n"
          ]
        }
      ]
    }
  ]
}